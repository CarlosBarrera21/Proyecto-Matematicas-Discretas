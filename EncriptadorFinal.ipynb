{
  "nbformat": 4,
  "nbformat_minor": 0,
  "metadata": {
    "colab": {
      "name": "EncriptadorFinal.ipynb",
      "provenance": [],
      "collapsed_sections": [],
      "include_colab_link": true
    },
    "kernelspec": {
      "name": "python3",
      "display_name": "Python 3"
    },
    "language_info": {
      "name": "python"
    }
  },
  "cells": [
    {
      "cell_type": "markdown",
      "metadata": {
        "id": "view-in-github",
        "colab_type": "text"
      },
      "source": [
        "<a href=\"https://colab.research.google.com/github/CarlosBarrera21/Proyecto-Matematicas-Discretas/blob/main/EncriptadorFinal.ipynb\" target=\"_parent\"><img src=\"https://colab.research.google.com/assets/colab-badge.svg\" alt=\"Open In Colab\"/></a>"
      ]
    },
    {
      "cell_type": "code",
      "execution_count": null,
      "metadata": {
        "id": "ZysnjKzcknQo",
        "colab": {
          "base_uri": "https://localhost:8080/"
        },
        "outputId": "d3620bb3-ce3e-4aa4-d733-4bebde3d0315"
      },
      "outputs": [
        {
          "output_type": "stream",
          "name": "stdout",
          "text": [
            "Collecting pycrypto\n",
            "  Downloading pycrypto-2.6.1.tar.gz (446 kB)\n",
            "\u001b[?25l\r\u001b[K     |▊                               | 10 kB 18.2 MB/s eta 0:00:01\r\u001b[K     |█▌                              | 20 kB 22.2 MB/s eta 0:00:01\r\u001b[K     |██▏                             | 30 kB 27.2 MB/s eta 0:00:01\r\u001b[K     |███                             | 40 kB 22.7 MB/s eta 0:00:01\r\u001b[K     |███▊                            | 51 kB 8.8 MB/s eta 0:00:01\r\u001b[K     |████▍                           | 61 kB 10.2 MB/s eta 0:00:01\r\u001b[K     |█████▏                          | 71 kB 9.5 MB/s eta 0:00:01\r\u001b[K     |█████▉                          | 81 kB 10.2 MB/s eta 0:00:01\r\u001b[K     |██████▋                         | 92 kB 11.2 MB/s eta 0:00:01\r\u001b[K     |███████▍                        | 102 kB 10.6 MB/s eta 0:00:01\r\u001b[K     |████████                        | 112 kB 10.6 MB/s eta 0:00:01\r\u001b[K     |████████▉                       | 122 kB 10.6 MB/s eta 0:00:01\r\u001b[K     |█████████▌                      | 133 kB 10.6 MB/s eta 0:00:01\r\u001b[K     |██████████▎                     | 143 kB 10.6 MB/s eta 0:00:01\r\u001b[K     |███████████                     | 153 kB 10.6 MB/s eta 0:00:01\r\u001b[K     |███████████▊                    | 163 kB 10.6 MB/s eta 0:00:01\r\u001b[K     |████████████▌                   | 174 kB 10.6 MB/s eta 0:00:01\r\u001b[K     |█████████████▏                  | 184 kB 10.6 MB/s eta 0:00:01\r\u001b[K     |██████████████                  | 194 kB 10.6 MB/s eta 0:00:01\r\u001b[K     |██████████████▊                 | 204 kB 10.6 MB/s eta 0:00:01\r\u001b[K     |███████████████▍                | 215 kB 10.6 MB/s eta 0:00:01\r\u001b[K     |████████████████▏               | 225 kB 10.6 MB/s eta 0:00:01\r\u001b[K     |█████████████████               | 235 kB 10.6 MB/s eta 0:00:01\r\u001b[K     |█████████████████▋              | 245 kB 10.6 MB/s eta 0:00:01\r\u001b[K     |██████████████████▍             | 256 kB 10.6 MB/s eta 0:00:01\r\u001b[K     |███████████████████             | 266 kB 10.6 MB/s eta 0:00:01\r\u001b[K     |███████████████████▉            | 276 kB 10.6 MB/s eta 0:00:01\r\u001b[K     |████████████████████▋           | 286 kB 10.6 MB/s eta 0:00:01\r\u001b[K     |█████████████████████▎          | 296 kB 10.6 MB/s eta 0:00:01\r\u001b[K     |██████████████████████          | 307 kB 10.6 MB/s eta 0:00:01\r\u001b[K     |██████████████████████▊         | 317 kB 10.6 MB/s eta 0:00:01\r\u001b[K     |███████████████████████▌        | 327 kB 10.6 MB/s eta 0:00:01\r\u001b[K     |████████████████████████▎       | 337 kB 10.6 MB/s eta 0:00:01\r\u001b[K     |█████████████████████████       | 348 kB 10.6 MB/s eta 0:00:01\r\u001b[K     |█████████████████████████▊      | 358 kB 10.6 MB/s eta 0:00:01\r\u001b[K     |██████████████████████████▍     | 368 kB 10.6 MB/s eta 0:00:01\r\u001b[K     |███████████████████████████▏    | 378 kB 10.6 MB/s eta 0:00:01\r\u001b[K     |████████████████████████████    | 389 kB 10.6 MB/s eta 0:00:01\r\u001b[K     |████████████████████████████▋   | 399 kB 10.6 MB/s eta 0:00:01\r\u001b[K     |█████████████████████████████▍  | 409 kB 10.6 MB/s eta 0:00:01\r\u001b[K     |██████████████████████████████  | 419 kB 10.6 MB/s eta 0:00:01\r\u001b[K     |██████████████████████████████▉ | 430 kB 10.6 MB/s eta 0:00:01\r\u001b[K     |███████████████████████████████▋| 440 kB 10.6 MB/s eta 0:00:01\r\u001b[K     |████████████████████████████████| 446 kB 10.6 MB/s \n",
            "\u001b[?25hBuilding wheels for collected packages: pycrypto\n",
            "  Building wheel for pycrypto (setup.py) ... \u001b[?25l\u001b[?25hdone\n",
            "  Created wheel for pycrypto: filename=pycrypto-2.6.1-cp37-cp37m-linux_x86_64.whl size=499932 sha256=c6540c91edad88ed42ee7a4c440e811317f017a99f2aeb96b05ef847519ccae3\n",
            "  Stored in directory: /root/.cache/pip/wheels/cf/85/ba/bbd7c96add459de7598fb424e5ff2309baf2095c844ac0f191\n",
            "Successfully built pycrypto\n",
            "Installing collected packages: pycrypto\n",
            "Successfully installed pycrypto-2.6.1\n"
          ]
        }
      ],
      "source": [
        "!pip install pycrypto"
      ]
    },
    {
      "cell_type": "code",
      "source": [
        "from werkzeug.security import generate_password_hash\n",
        "from os import lstat\n",
        "import pandas as pd\n",
        "import Crypto\n",
        "import binascii\n",
        "from Crypto.PublicKey import RSA\n",
        "from Crypto.Cipher import PKCS1_OAEP\n",
        "from datetime import datetime"
      ],
      "metadata": {
        "id": "ZFmz_fHotWSj"
      },
      "execution_count": null,
      "outputs": []
    },
    {
      "cell_type": "code",
      "execution_count": null,
      "metadata": {
        "id": "wzAMcvwfyUkx"
      },
      "outputs": [],
      "source": [
        "\n",
        "df = pd.read_excel(\"DatosOrdenados.xlsx\") #Devuelve toda la información del archivo\n",
        "d = df.to_dict(\"records\") #Numero de filas\n",
        "lst= []\n",
        "listabalance =[]\n",
        "operacionbalance=[]\n",
        "balancefinal=[]\n",
        "listawer = []\n",
        "listarsa = []\n",
        "\n",
        "\n",
        "def werkzeug(column):\n",
        "  listabalance =[]\n",
        "  tupla1 = []\n",
        "  listawer=[]\n",
        "  for i in range(0,len(d)): #Recorre toda las filas de la base de datos\n",
        "    tupla1 = df.loc[i] #Asigna a nuestra variable iterable una fila de la base de datos\n",
        "    string = tupla1[column]  #Me devuelve toda la columna\n",
        "    listabalance.append(string) #Agregamos a listabalance la posición 4 de nuestro output(base de datos)\n",
        "    \n",
        "  for pos in listabalance:\n",
        "      texto_encriptado = generate_password_hash(str(pos))\n",
        "      cutted = texto_encriptado[38:102]\n",
        "      listawer.append(cutted)\n",
        "  return listawer\n",
        "\n",
        "  \n",
        "\n",
        "def modulo(column):\n",
        "  listabalance =[]\n",
        "  for i in range(0,len(d)): #Recorre toda las filas de la base de datos\n",
        "      tupla1 = df.loc[i] #Asigna a nuestra variable iterable una fila de la base de datos\n",
        "      string = tupla1[column]  #Me devuelve toda la columna\n",
        "      listabalance.append(string) #Agregamos a listabalance la posición 4 de nuestro output(base de datos)\n",
        "\n",
        "  for i in range(0,len(listabalance)):\n",
        "    mod= i*11+5\n",
        "    if listabalance[i] == \"retiro\":\n",
        "      listabalance[i]= mod\n",
        "    mud= i*11+2\n",
        "    if listabalance[i] == \"ingreso\":\n",
        "      listabalance[i]= mud\n",
        "  return listabalance\n",
        "\n",
        "\n",
        "###RSA###RSA####RSA####RSA#\n",
        "random_gen = Crypto.Random.new().read\n",
        "private_key = RSA.generate(1024,random_gen)\n",
        "public_key = private_key.publickey()\n",
        "\n",
        "\n",
        "#exportar\n",
        "private_key = private_key.exportKey(format='DER')\n",
        "public_key = public_key.exportKey(format='DER')\n",
        "\n",
        "#convertir\n",
        "private_key = binascii.hexlify(private_key).decode('utf8')\n",
        "public_key = binascii.hexlify(public_key).decode('utf8')\n",
        "\n",
        "\n",
        "#proceso inverso\n",
        "\n",
        "private_key = RSA.importKey(binascii.unhexlify(private_key))\n",
        "public_key = RSA.importKey(binascii.unhexlify(public_key))\n",
        "###RSA###RSA####RSA####RSA#\n",
        "\n",
        "def RSA(column):\n",
        "  listabalance =[]\n",
        "  listarsa = []\n",
        "  for i in range(0,len(d)): #Recorre toda las filas de la base de datos\n",
        "    tupla1 = df.loc[i] #Asigna a nuestra variable iterable una fila de la base de datos\n",
        "    string = tupla1[column]  #Me devuelve toda la columna\n",
        "    listabalance.append(string) #Agregamos a listabalance la posición 4 de nuestro output(base de datos)\n",
        "\n",
        "  for i in range(0,len(listabalance)):\n",
        "    message = str(listabalance[i])\n",
        "    #message = str(message)\n",
        "    message = message.encode()\n",
        "    cipher =  PKCS1_OAEP.new(public_key)\n",
        "    encrypted = cipher.encrypt(message)\n",
        "    listarsa.append(encrypted)\n",
        "  return listarsa\n"
      ]
    },
    {
      "cell_type": "code",
      "execution_count": null,
      "metadata": {
        "colab": {
          "base_uri": "https://localhost:8080/"
        },
        "outputId": "e8bb6554-4cf3-48b1-c4ae-6a8f7b1c0f7f",
        "id": "FjBZQ032ah0m"
      },
      "outputs": [
        {
          "output_type": "stream",
          "name": "stdout",
          "text": [
            "                                         Numero de ID  \\\n",
            "0   c91c92ad454de26f01001f82451ddd4bf82e04c0bfee00...   \n",
            "1   3728e397225ec9a619261d7d4ee96f2df0abf1ce9d82b5...   \n",
            "2   2ec99190cb2b2af55515e1baf599e493194b1ac01c4e3d...   \n",
            "3   258e6e72dc14eb08a8b43cfe3be615d958aec0e3261396...   \n",
            "4   22ef0a93c9538da356fb2667adec93e07b32134357702e...   \n",
            "5   0c3f3b6370054189b2bdbbf58367abbd2daa65c152e783...   \n",
            "6   7bb5e6b4ff3d8659cec97edd0eff315fed3dd3ac374aa3...   \n",
            "7   b2f62e29602312b32eb4bdeab312f9bddd39adac4cc051...   \n",
            "8   bc43aad7af25a82f69a77eff3affb784f25cce636281ae...   \n",
            "9   1018b24bab818d36112cfcf6506c68a8a87b8862bb0c8d...   \n",
            "10  b391f476d063137146d7829f69a575f703f8051bf1e94c...   \n",
            "11  039ccfd790362c688343722d9a92cc05e7513e33d09e9d...   \n",
            "12  945195281ce2f459291bbaf8900b6480e8411264d9582f...   \n",
            "13  a36947fc627f199212239334308584fcf1714eaf4b796c...   \n",
            "14  87db88b70bc49aedf4cbb407ec6ac7ceb7bb258b0eb4f1...   \n",
            "15  d05eb5303e15325506867ec0927d65e235113843563a6c...   \n",
            "16  5f17057af2c2412007da0cba8bfe77dfee653631f6389e...   \n",
            "17  54b43c6e4d4a97d5b055863494c2d5a4406fcc9b4f8f2c...   \n",
            "18  88178629c758e7784834d5200ff4325a5689265df7546f...   \n",
            "19  94840eb007bd0b433c8b3d1ceb47bf5d975233ee007217...   \n",
            "\n",
            "                                                Fecha  Tipo de Transaccion  \\\n",
            "0   5a61ebc32862c678d10cc8e425ecf5421b6153389998ec...                    5   \n",
            "1   02c54652334883d7e2c3979a795fd5b408766a88dbc9b8...                   16   \n",
            "2   49d3e37e312e199554198713cbbb9449d30329d268568a...                   24   \n",
            "3   2ff6890144362d0e4fa2ee758ca703c86fabd4e23d2b5d...                   38   \n",
            "4   c0c9c01e59824f6826649769e21d486db99f2c98f386b2...                   49   \n",
            "5   d66df412a00ada492f703d078e9e1016c854e2c8586921...                   60   \n",
            "6   5905f1799c160e6b31e32698000ad0c5ee2e0d72ad55b8...                   71   \n",
            "7   8b8228806866b5b3d02c6936a05b93ce105738bcc17ff3...                   79   \n",
            "8   f202357ef19d3c0909d7985b83572710d1378133b33ce7...                   90   \n",
            "9   6a7b8655bc1a90e0dd40097e7aa9194022946b323974f1...                  104   \n",
            "10  0d6ac51d17ae0d77bdf69036745f16a98087db352c9c86...                  115   \n",
            "11  28f82fa9a586d6269aec1e374fb844c6f4d9e6200dcb68...                  126   \n",
            "12  6ab38f69ea24f57b3f58db5cca815a913275d958d0dab6...                  134   \n",
            "13  04afeb16288fdd7ba182d4b5ee4128cf5c1683ff2d15cb...                  148   \n",
            "14  9c022a0d5e053d64ff0b4f8c4a8720f9b6b26f7eb287bd...                  156   \n",
            "15  aeda0160ba87c9a700d681be780a9602f8addef1af06d7...                  167   \n",
            "16  adde255efa4885042d43469161592a5139fa63665de3a7...                  181   \n",
            "17  8f777c81170a11e30c8bec33ce8f666894b034f04255c4...                  189   \n",
            "18  38f67db7e713ccf5e2e2aa24d9d70a646464c6917e28ce...                  200   \n",
            "19  0738e2c2d623a81acbefa35bd36e6e7c6dcf12c2da06a8...                  211   \n",
            "\n",
            "                                                Monto  \\\n",
            "0   b'z+\\x12\\xc7\\x95/M\\xc8d\\t\\x13\\x9a\\xe1!\\xbe\\xfe...   \n",
            "1   b\"\\x80\\x98\\xaa\\x9e\\xe1\\xc4;7\\xfc\\xc7\\x16'x*\\x1...   \n",
            "2   b\"\\x07q\\xd3[\\xb5\\xc0\\xd2\\x0cB\\xb6(Bv\\x1a\\xe2\\x...   \n",
            "3   b\"U\\xcd\\xe2w\\xcd\\xec:aPZY\\x1a68\\xc6\\x1d\\xc2\\x8...   \n",
            "4   b\"D\\xdd\\xe8\\x826\\x1e'\\xd8^\\xae\\xd1NTCu\\\\\\x1e3h...   \n",
            "5   b\"\\\\\\x1b'~\\xb1\\xaa\\xd6}\\xc9\\x93]-\\xff\\x86\\xa7<...   \n",
            "6   b')fH\\x13\\x85\\x05\\xb8\\x01\\xc7\\xd7kb<\\xa9\\xc3\\x...   \n",
            "7   b'g<\\x88\\xc8?\\xcb\\xf32)J \\xaeQ\\x8b<\\x0e\\xbbI\\x...   \n",
            "8   b'Z\\x86@\\xc5rf4\\xc2\\x14\\xda\\xce\\xd7\\xd8#L&\\x83...   \n",
            "9   b'\\x8f\\xb5T\\xccK\\xfaR\\x1d\\x16`a\\x91R \\xfa\\xb0\\...   \n",
            "10  b'XI\\xa2\\x89hm\\x7f\\x83\\r3@G\\x1d@\\x10Y\\x86\\xb7\\...   \n",
            "11  b'+r\\x01_\\x9c*\\xfbc\\xbe!\\xf1\\xeb\\x03\\xe5\\x99\\x...   \n",
            "12  b'6a\\x1f\\xa0[\\xbbZC\\x07\\xfe\\x03\\xe8\\x0e/\\xe2\\x...   \n",
            "13  b'7\\xa0\\x19T\\xbf\\xb3\\xb5\\xa8\\x0c-|u\\\\C\\xdd\\xf7...   \n",
            "14  b'\\x81]\\xc9\\x00k.,T\\xe1Q\\x98\\xfe\\x0b\\xd0\\xa1\\x...   \n",
            "15  b'\\tU\\x01A\\xcc\\x0fF\\xff\\xb1]\\xbb\\x0f$\\xbb3@3D\\...   \n",
            "16  b'(\\x8d[\\x0f$\\x9c*\\x1e\\x94\\x1c\\xf7\\xf15\\xa8\\x1...   \n",
            "17  b'=U\\xa6\\xe2T\\x08\\xb4g\\xbd\\x92\\xca=;\\xedm\\x99/...   \n",
            "18  b'\\x84\\xeeR\\xd5\\xda\\x9f\\xb8\\x1a\\x88\\xacx\\xf7\\x...   \n",
            "19  b'e\\xaa\\xd6\\xfc\\xf4<R\\xac\\xf7\\x8eD\\xc8\\xf0i\\x0...   \n",
            "\n",
            "                                              Balance  \n",
            "0   b'\\x89\\xac\\x98O\\xd1\\xc6\\x8bF(\\xf5<\\xaeZ\\x84\\x8...  \n",
            "1   b\"\\x18\\x07\\xf6\\x84q\\xa1\\x9cU\\xf6\\xbd\\xf8\\xc5\\x...  \n",
            "2   b'$\\x04D\\xe0\\xb3Kn\\x9dWy&\\x8a\\x16d\\xddA5\\nS\\xb...  \n",
            "3   b'.]!\\xd6\\x0fa\\xd8Q:\\x87x\\xb5\\xf0u\\x87\\x95\\xc2...  \n",
            "4   b\"i\\xae\\x81\\xde\\xca\\x14\\xcdt\\xe0m\\x98\\x8c4\\xab...  \n",
            "5   b'\\x07.\\xc3/\\xa7*\\x19y\\x0c\\xdd\\xc4\\x85\\x84\\x90...  \n",
            "6   b'sR\\x8b\\x14\\xc34\\x94\\xb7s\\x02i\\xb5\\xc7\\x81[Y\\...  \n",
            "7   b'I^\\x14K\\xb2\\x02\\xd0yLW~\\x07(y\\xd9\\xdbF\\xba\\x...  \n",
            "8   b'^\\x07\\xd9\\xe8\\x1f\\x0e\\x90!\\x7f\\xd6X\\x12c,O\\\\...  \n",
            "9   b'4.\\x98\\x16\\xa4pn\\x0b\\xcf\\xaa4\\x00\\xecN*\\x12\\...  \n",
            "10  b'{\\xf1]1\\xcf\\xe7\\xc1\\xa5\\xa1\\xa1+\\xca w)\\xdb\\...  \n",
            "11  b\"\\x13o|6\\x1c\\xc8\\xb0\\xa5\\x03`\\xaaD+e\\xc1^\\xe8...  \n",
            "12  b'.\\x8c\\xb4\\xfb\\xea\\x8e\\xbed\\x8bV@_\\x06*\\xf4R\\...  \n",
            "13  b'h\\xdcU\\xa3\\x19_Eq2\\xbd\\x04\\x88^k\\xe7\\x15\\x7f...  \n",
            "14  b's\"~\\x88\\\\5\\xae\\xe9A\\xf0\\x84\\xc1<\\r+\\x857\\xc6...  \n",
            "15  b'^\\xad2J\\xcd[6\\xa9\\xa7\\xa8\\x87\\xe5\\x01\\xe3\\xe...  \n",
            "16  b'\\x0b\\x8ax\\xd2y\\xabB\\x17\\xeb\\xe4\\x0b=\\x03\\x93...  \n",
            "17  b\"\\x06\\xfa\\xc2\\xed\\xd3\\x13\\x1c\\x16\\xe27a\\x11(-...  \n",
            "18  b'\\x15 ^x\\x8d\\x04\\x1eF\\xb2\\xb9!?\\\\=\\x93\\xae`\\x...  \n",
            "19  b\"W\\xcd\\xf37\\x82'\\x19\\x9e;\\x1d;b\\x92b\\x140\\x1d...  \n"
          ]
        }
      ],
      "source": [
        "\n",
        "lst1 = []\n",
        "lst2 = []\n",
        "lst3 = []\n",
        "lst4 = []\n",
        "lst5 = []\n",
        "\n",
        "\n",
        "\n",
        "\n",
        "\n",
        "#Creamos una lista para que las funciones nos devuelvan los datos y se guarden en cada una de estas\n",
        "lst1 = werkzeug('Numero de ID') \n",
        "\n",
        "lst2 = werkzeug('Fecha')\n",
        "\n",
        "lst3 = modulo('Tipo de transaccion')\n",
        "\n",
        "lst4 = RSA('Monto')\n",
        "\n",
        "lst5 = RSA('Balance')\n",
        "\n",
        "lst_rrss = []\n",
        "\n",
        "for i in range(0,len(lst1)):\n",
        "  lstaux = [lst1[i],lst2[i],lst3[i],lst4[i],lst5[i]] #orden de las listas\n",
        "  lst_rrss.append(lstaux)\n",
        "df_rrss = pd.DataFrame(lst_rrss,columns=['Numero de ID','Fecha','Tipo de Transaccion','Monto','Balance']) #Columnas en donde se guardarán los datps\n",
        "print(df_rrss)\n",
        "df_rrss.to_excel(\"DatosEncriptados.xlsx\", index=False) #creacion del excel"
      ]
    },
    {
      "cell_type": "markdown",
      "source": [
        "# Nueva sección"
      ],
      "metadata": {
        "id": "7G42aFN0pyq-"
      }
    },
    {
      "cell_type": "code",
      "source": [
        ""
      ],
      "metadata": {
        "id": "byPC08uhktlY"
      },
      "execution_count": null,
      "outputs": []
    }
  ]
}